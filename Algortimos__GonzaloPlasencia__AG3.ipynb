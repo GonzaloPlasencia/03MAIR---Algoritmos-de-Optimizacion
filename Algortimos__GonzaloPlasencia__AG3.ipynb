{
  "nbformat": 4,
  "nbformat_minor": 0,
  "metadata": {
    "colab": {
      "provenance": []
    },
    "kernelspec": {
      "name": "python3",
      "display_name": "Python 3"
    },
    "language_info": {
      "name": "python"
    }
  },
  "cells": [
    {
      "cell_type": "markdown",
      "source": [
        "# Actividad guiada 3 de Algoritmos de Optimización\n",
        "\n",
        "Nombre : Gonzalo Plasencia Boticario\n",
        "\n",
        "Link : https://colab.research.google.com/drive/1R6ajLxmOCsPgEpC0EYAOC7hbr5aQYqzG?usp=sharing\n",
        "\n",
        "Github : https://github.com/GonzaloPlasencia/03MAIR---Algoritmos-de-Optimizacion.git"
      ],
      "metadata": {
        "id": "rcw54sW5a_4r"
      }
    },
    {
      "cell_type": "markdown",
      "source": [
        "#Carga de librerias"
      ],
      "metadata": {
        "id": "2ztOda6fbZ3_"
      }
    },
    {
      "cell_type": "code",
      "source": [
        "!pip install requests    #Hacer llamadas http a paginas de la red\n",
        "!pip install tsplib95    #Modulo para las instancias del problema del TSP"
      ],
      "metadata": {
        "colab": {
          "base_uri": "https://localhost:8080/"
        },
        "id": "Z8baHo-KbJKw",
        "outputId": "ffbf77c9-d397-458d-b6e4-5f0577d113f8"
      },
      "execution_count": 1,
      "outputs": [
        {
          "output_type": "stream",
          "name": "stdout",
          "text": [
            "Looking in indexes: https://pypi.org/simple, https://us-python.pkg.dev/colab-wheels/public/simple/\n",
            "Requirement already satisfied: requests in /usr/local/lib/python3.8/dist-packages (2.25.1)\n",
            "Requirement already satisfied: urllib3<1.27,>=1.21.1 in /usr/local/lib/python3.8/dist-packages (from requests) (1.24.3)\n",
            "Requirement already satisfied: idna<3,>=2.5 in /usr/local/lib/python3.8/dist-packages (from requests) (2.10)\n",
            "Requirement already satisfied: chardet<5,>=3.0.2 in /usr/local/lib/python3.8/dist-packages (from requests) (4.0.0)\n",
            "Requirement already satisfied: certifi>=2017.4.17 in /usr/local/lib/python3.8/dist-packages (from requests) (2022.12.7)\n",
            "Looking in indexes: https://pypi.org/simple, https://us-python.pkg.dev/colab-wheels/public/simple/\n",
            "Collecting tsplib95\n",
            "  Downloading tsplib95-0.7.1-py2.py3-none-any.whl (25 kB)\n",
            "Requirement already satisfied: Click>=6.0 in /usr/local/lib/python3.8/dist-packages (from tsplib95) (7.1.2)\n",
            "Collecting Deprecated~=1.2.9\n",
            "  Downloading Deprecated-1.2.13-py2.py3-none-any.whl (9.6 kB)\n",
            "Collecting networkx~=2.1\n",
            "  Downloading networkx-2.8.8-py3-none-any.whl (2.0 MB)\n",
            "\u001b[2K     \u001b[90m━━━━━━━━━━━━━━━━━━━━━━━━━━━━━━━━━━━━━━━━\u001b[0m \u001b[32m2.0/2.0 MB\u001b[0m \u001b[31m10.9 MB/s\u001b[0m eta \u001b[36m0:00:00\u001b[0m\n",
            "\u001b[?25hRequirement already satisfied: tabulate~=0.8.7 in /usr/local/lib/python3.8/dist-packages (from tsplib95) (0.8.10)\n",
            "Requirement already satisfied: wrapt<2,>=1.10 in /usr/local/lib/python3.8/dist-packages (from Deprecated~=1.2.9->tsplib95) (1.14.1)\n",
            "Installing collected packages: networkx, Deprecated, tsplib95\n",
            "  Attempting uninstall: networkx\n",
            "    Found existing installation: networkx 3.0\n",
            "    Uninstalling networkx-3.0:\n",
            "      Successfully uninstalled networkx-3.0\n",
            "Successfully installed Deprecated-1.2.13 networkx-2.8.8 tsplib95-0.7.1\n"
          ]
        }
      ]
    },
    {
      "cell_type": "markdown",
      "source": [
        "#Carga de los datos del problema"
      ],
      "metadata": {
        "id": "pGP0SR5cbne1"
      }
    },
    {
      "cell_type": "code",
      "source": [
        "import urllib.request #Hacer llamadas http a paginas de la red\n",
        "import tsplib95       #Modulo para las instancias del problema del TSP\n",
        "import math           #Modulo de funciones matematicas. Se usa para exp\n",
        "import random                     #Para generar valores aleatorios\n",
        "\n",
        "\n",
        "#http://elib.zib.de/pub/mp-testdata/tsp/tsplib/\n",
        "#Documentacion : \n",
        "  # http://comopt.ifi.uni-heidelberg.de/software/TSPLIB95/tsp95.pdf\n",
        "  # https://tsplib95.readthedocs.io/en/stable/pages/usage.html\n",
        "  # https://tsplib95.readthedocs.io/en/v0.6.1/modules.html\n",
        "  # https://pypi.org/project/tsplib95/\n",
        "\n",
        "#Descargamos el fichero de datos(Matriz de distancias)\n",
        "file = \"swiss42.tsp\" ; \n",
        "urllib.request.urlretrieve(\"http://comopt.ifi.uni-heidelberg.de/software/TSPLIB95/tsp/swiss42.tsp.gz\", file + '.gz')\n",
        "!gzip -d swiss42.tsp.gz     #Descomprimir el fichero de datos \n",
        "\n",
        "#Coordendas 51-city problem (Christofides/Eilon)\n",
        "#file = \"eil51.tsp\" ; urllib.request.urlretrieve(\"http://comopt.ifi.uni-heidelberg.de/software/TSPLIB95/tsp/eil51.tsp.gz\", file)\n",
        "\n",
        "#Coordenadas - 48 capitals of the US (Padberg/Rinaldi)\n",
        "#file = \"att48.tsp\" ; urllib.request.urlretrieve(\"http://comopt.ifi.uni-heidelberg.de/software/TSPLIB95/tsp/att48.tsp.gz\", file)import urllib.request #Hacer "
      ],
      "metadata": {
        "id": "1CiY5Affbpgn"
      },
      "execution_count": 2,
      "outputs": []
    },
    {
      "cell_type": "code",
      "source": [
        "#Carga de datos y generación de objeto problem\n",
        "###############################################################################\n",
        "problem = tsplib95.load(file)\n",
        "\n",
        "#Nodos\n",
        "Nodos = list(problem.get_nodes())\n",
        "\n",
        "#Aristas\n",
        "Aristas = list(problem.get_edges())"
      ],
      "metadata": {
        "id": "joQ0JzUeb4EE"
      },
      "execution_count": 3,
      "outputs": []
    },
    {
      "cell_type": "code",
      "source": [
        "#Probamos algunas funciones del objeto problem\n",
        "\n",
        "#Distancia entre nodos\n",
        "problem.get_weight(0, 1)\n",
        "\n",
        "#Todas las funciones\n",
        "#Documentación: https://tsplib95.readthedocs.io/en/v0.6.1/modules.html\n",
        "                \n",
        "#dir(problem)"
      ],
      "metadata": {
        "colab": {
          "base_uri": "https://localhost:8080/"
        },
        "id": "jwqsSMaocQLC",
        "outputId": "f2610663-8e28-47d8-e70f-9d3eb03b612d"
      },
      "execution_count": 4,
      "outputs": [
        {
          "output_type": "execute_result",
          "data": {
            "text/plain": [
              "15"
            ]
          },
          "metadata": {},
          "execution_count": 4
        }
      ]
    },
    {
      "cell_type": "markdown",
      "source": [
        "#Funcionas basicas"
      ],
      "metadata": {
        "id": "eDty2jAFgBuM"
      }
    },
    {
      "cell_type": "code",
      "source": [
        "#Funcionas basicas\n",
        "###############################################################################      \n",
        "     \n",
        "#Se genera una solucion aleatoria con comienzo en en el nodo 0\n",
        "def crear_solucion(Nodos): \n",
        "  solucion = [Nodos[0]]\n",
        "  for n in Nodos[1:]:\n",
        "    solucion = solucion + [random.choice(list(set(Nodos) - set({Nodos[0]}) - set(solucion)))]\n",
        "  return solucion \n",
        "\n",
        "#Devuelve la distancia entre dos nodos\n",
        "def distancia(a,b, problem):\n",
        "  return problem.get_weight(a,b)\n",
        "\n",
        "#Devuelve la distancia total de una trayectoria/solucion\n",
        "def distancia_total(solucion, problem):\n",
        "  distancia_total = 0\n",
        "  for i in range(len(solucion)-1):\n",
        "    distancia_total += distancia(solucion[i] ,solucion[i+1] ,  problem)\n",
        "  return distancia_total + distancia(solucion[len(solucion)-1] ,solucion[0], problem)"
      ],
      "metadata": {
        "id": "ZWkhBZzLe5oa"
      },
      "execution_count": 5,
      "outputs": []
    },
    {
      "cell_type": "markdown",
      "source": [
        "#BUSQUEDA ALEATORIA"
      ],
      "metadata": {
        "id": "rrjpI3L-heug"
      }
    },
    {
      "cell_type": "code",
      "source": [
        "###############################################################################\n",
        "# BUSQUEDA ALEATORIA\n",
        "###############################################################################\n",
        "\n",
        "def busqueda_aleatoria(problem, N):\n",
        "  #N es el numero de iteraciones\n",
        "  Nodos = list(problem.get_nodes())\n",
        "  \n",
        "  mejor_solucion = []\n",
        "  #mejor_distancia = 10e100                         #Inicializamos con un valor alto\n",
        "  mejor_distancia = float('inf')                    #Inicializamos con un valor alto\n",
        "  \n",
        "  for i in range(N):                                #Criterio de parada: repetir N veces pero podemos incluir otros\n",
        "    solucion = crear_solucion(Nodos)                #Genera una solucion aleatoria\n",
        "    distancia = distancia_total(solucion, problem)  #Calcula el valor objetivo(distancia total)\n",
        "    \n",
        "    if distancia < mejor_distancia:                 #Compara con la mejor obtenida hasta ahora\n",
        "      mejor_solucion = solucion\n",
        "      mejor_distancia = distancia\n",
        "      \n",
        "      \n",
        "  print(\"Mejor solución:\" , mejor_solucion) \n",
        "  print(\"Distancia     :\" , mejor_distancia) \n",
        "  return mejor_solucion  \n",
        "\n",
        "    \n",
        "#Busqueda aleatoria con 5000 iteraciones    \n",
        "solucion = busqueda_aleatoria(problem, 5000)  "
      ],
      "metadata": {
        "colab": {
          "base_uri": "https://localhost:8080/"
        },
        "id": "tceb2Xa7gGIn",
        "outputId": "b577843b-2f4f-47c6-d8ab-ddffeed7af36"
      },
      "execution_count": 6,
      "outputs": [
        {
          "output_type": "stream",
          "name": "stdout",
          "text": [
            "Mejor solución: [0, 27, 32, 35, 31, 28, 5, 8, 41, 25, 12, 23, 30, 10, 37, 16, 14, 6, 40, 38, 1, 33, 20, 36, 15, 7, 22, 21, 24, 13, 3, 18, 4, 39, 2, 11, 9, 19, 26, 17, 29, 34]\n",
            "Distancia     : 3731\n"
          ]
        }
      ]
    },
    {
      "cell_type": "markdown",
      "source": [
        "#BUSQUEDA LOCAL"
      ],
      "metadata": {
        "id": "siXjih82ichN"
      }
    },
    {
      "cell_type": "code",
      "source": [
        "###############################################################################\n",
        "# BUSQUEDA LOCAL\n",
        "###############################################################################\n",
        "def genera_vecina(solucion):\n",
        "  #Generador de soluciones vecinas: 2-opt (intercambiar 2 nodos) Si hay N nodos se generan (N-1)x(N-2)/2 soluciones\n",
        "  #Se puede modificar para aplicar otros generadores distintos que 2-opt\n",
        "  #print(solucion)\n",
        "  mejor_solucion = []\n",
        "  mejor_distancia = 10e100\n",
        "  for i in range(1,len(solucion)-1):          #Recorremos todos los nodos en bucle doble para evaluar todos los intercambios 2-opt\n",
        "    for j in range(i+1, len(solucion)):\n",
        "      \n",
        "      #Se genera una nueva solución intercambiando los dos nodos i,j:\n",
        "      #  (usamos el operador + que para listas en python las concatena) : ej.: [1,2] + [3] = [1,2,3]\n",
        "      vecina = solucion[:i] + [solucion[j]] + solucion[i+1:j] + [solucion[i]] + solucion[j+1:]   \n",
        "\n",
        "      #Se evalua la nueva solución ...\n",
        "      distancia_vecina = distancia_total(vecina, problem)         \n",
        "\n",
        "      #... para guardarla si mejora las anteriores\n",
        "      if distancia_vecina <= mejor_distancia:\n",
        "        mejor_distancia = distancia_vecina\n",
        "        mejor_solucion = vecina\n",
        "  return mejor_solucion\n",
        "\n",
        "\n",
        "#solucion = [1, 47, 13, 41, 40, 19, 42, 44, 37, 5, 22, 28, 3, 2, 29, 21, 50, 34, 30, 9, 16, 11, 38, 49, 10, 39, 33, 45, 15, 24, 43, 26, 31, 36, 35, 20, 8, 7, 23, 48, 27, 12, 17, 4, 18, 25, 14, 6, 51, 46, 32]\n",
        "print(\"Distancia Solucion Incial:\" , distancia_total(solucion, problem))\n",
        " \n",
        "\n",
        "nueva_solucion = genera_vecina(solucion)\n",
        "print(\"Distancia Mejor Solucion Local:\", distancia_total(nueva_solucion, problem))"
      ],
      "metadata": {
        "colab": {
          "base_uri": "https://localhost:8080/"
        },
        "id": "5E2A3z9YhzHa",
        "outputId": "12eab9f0-0bae-4d1a-8194-d6422a429587"
      },
      "execution_count": 7,
      "outputs": [
        {
          "output_type": "stream",
          "name": "stdout",
          "text": [
            "Distancia Solucion Incial: 3731\n",
            "Distancia Mejor Solucion Local: 3448\n"
          ]
        }
      ]
    },
    {
      "cell_type": "code",
      "source": [
        "#Busqueda Local:\n",
        "#  - Sobre el operador de vecindad 2-opt(funcion genera_vecina)\n",
        "#  - Sin criterio de parada, se para cuando no es posible mejorar.\n",
        "def busqueda_local(problem):\n",
        "  mejor_solucion = []\n",
        "\n",
        "  #Generar una solucion inicial de referencia(aleatoria)\n",
        "  solucion_referencia = crear_solucion(Nodos)\n",
        "  mejor_distancia = distancia_total(solucion_referencia, problem)\n",
        "  print(mejor_distancia)\n",
        "\n",
        "  iteracion=0             #Un contador para saber las iteraciones que hacemos\n",
        "  while(1):\n",
        "    iteracion +=1         #Incrementamos el contador\n",
        "    #print('#',iteracion)\n",
        "\n",
        "    #Obtenemos la mejor vecina ...\n",
        "    vecina = genera_vecina(solucion_referencia)\n",
        "\n",
        "    #... y la evaluamos para ver si mejoramos respecto a lo encontrado hasta el momento\n",
        "    distancia_vecina = distancia_total(vecina, problem)\n",
        " \n",
        "    #Si no mejoramos hay que terminar. Hemos llegado a un minimo local(según nuestro operador de vencindad 2-opt)\n",
        "    if distancia_vecina < mejor_distancia:\n",
        "      #mejor_solucion = copy.deepcopy(vecina)   #Con copia profunda. Las copias en python son por referencia \n",
        "      mejor_solucion = vecina                   #Guarda la mejor solución encontrada\n",
        "      mejor_distancia = distancia_vecina\n",
        "\n",
        "    else:\n",
        "      print(\"En la iteracion \", iteracion, \", la mejor solución encontrada es:\" , mejor_solucion) \n",
        "      print(\"Distancia     :\" , mejor_distancia) \n",
        "      return mejor_solucion\n",
        "      \n",
        "  solucion_referencia = vecina\n",
        " \n",
        " \n",
        "sol = busqueda_local(problem )"
      ],
      "metadata": {
        "colab": {
          "base_uri": "https://localhost:8080/"
        },
        "id": "-Z8FC_xuig4u",
        "outputId": "3680028a-c751-4d3d-9f1a-53b6b10ff9b0"
      },
      "execution_count": 8,
      "outputs": [
        {
          "output_type": "stream",
          "name": "stdout",
          "text": [
            "4972\n",
            "En la iteracion  2 , la mejor solución encontrada es: [0, 4, 7, 37, 40, 5, 28, 39, 18, 14, 27, 24, 6, 26, 22, 29, 21, 8, 10, 35, 32, 41, 1, 9, 31, 36, 19, 13, 33, 20, 38, 3, 30, 15, 2, 34, 17, 11, 23, 25, 12, 16]\n",
            "Distancia     : 4478\n"
          ]
        }
      ]
    },
    {
      "cell_type": "markdown",
      "source": [
        "#SIMULATED ANNEALING"
      ],
      "metadata": {
        "id": "mhECTGKdj9WU"
      }
    },
    {
      "cell_type": "code",
      "source": [
        "###############################################################################\n",
        "# SIMULATED ANNEALING\n",
        "###############################################################################\n",
        "\n",
        "#Generador de 1 solucion vecina 2-opt 100% aleatoria (intercambiar 2 nodos)\n",
        "#Mejorable eligiendo otra forma de elegir una vecina.\n",
        "def genera_vecina_aleatorio(solucion):\n",
        "\n",
        "  #Se eligen dos nodos aleatoriamente\n",
        "  i,j = sorted(random.sample( range(1,len(solucion)) , 2))\n",
        "  \n",
        "  #Devuelve una nueva solución pero intercambiando los dos nodos elegidos al azar\n",
        "  return solucion[:i] + [solucion[j]] + solucion[i+1:j] + [solucion[i]] + solucion[j+1:]\n",
        "  \n",
        " \n",
        "#Funcion de probabilidad para aceptar peores soluciones\n",
        "def probabilidad(T,d):\n",
        "  if random.random() <  math.exp( -1*d / T)  :\n",
        "    return True\n",
        "  else:\n",
        "    return False\n",
        "\n",
        "#Funcion de descenso de temperatura\n",
        "def bajar_temperatura(T):\n",
        "  return T*0.99"
      ],
      "metadata": {
        "id": "bLSJMi6UjMMN"
      },
      "execution_count": 9,
      "outputs": []
    },
    {
      "cell_type": "code",
      "source": [
        "def recocido_simulado(problem, TEMPERATURA ):\n",
        "  #problem = datos del problema\n",
        "  #T = Temperatura\n",
        "  \n",
        "  solucion_referencia = crear_solucion(Nodos)\n",
        "  distancia_referencia = distancia_total(solucion_referencia, problem)\n",
        "  \n",
        "  mejor_solucion = []             #x* del seudocodigo\n",
        "  mejor_distancia = 10e100        #F* del seudocodigo\n",
        "  \n",
        "  \n",
        "  N=0\n",
        "  while TEMPERATURA > .0001:\n",
        "    N+=1\n",
        "    #Genera una solución vecina\n",
        "    vecina =genera_vecina_aleatorio(solucion_referencia)\n",
        "    \n",
        "    #Calcula su valor(distancia)\n",
        "    distancia_vecina = distancia_total(vecina, problem)\n",
        "      \n",
        "    #Si es la mejor solución de todas se guarda(siempre!!!)\n",
        "    if distancia_vecina < mejor_distancia:\n",
        "        mejor_solucion = vecina\n",
        "        mejor_distancia = distancia_vecina\n",
        "    \n",
        "    #Si la nueva vecina es mejor se cambia  \n",
        "    #Si es peor se cambia según una probabilidad que depende de T y delta(distancia_referencia - distancia_vecina)\n",
        "    if distancia_vecina < distancia_referencia or probabilidad(TEMPERATURA, abs(distancia_referencia - distancia_vecina) ) :\n",
        "      #solucion_referencia = copy.deepcopy(vecina)\n",
        "      solucion_referencia = vecina\n",
        "      distancia_referencia = distancia_vecina\n",
        "\n",
        "    #Bajamos la temperatura\n",
        "    TEMPERATURA = bajar_temperatura(TEMPERATURA)\n",
        " \n",
        "  print(\"La mejor solución encontrada es \" , end=\"\")\n",
        "  print(mejor_solucion)\n",
        "  print(\"con una distancia total de \" , end=\"\")\n",
        "  print(mejor_distancia)\n",
        "  return mejor_solucion\n",
        "\n",
        "sol  = recocido_simulado(problem, 10000000)"
      ],
      "metadata": {
        "colab": {
          "base_uri": "https://localhost:8080/"
        },
        "id": "et6lpjyLkCU6",
        "outputId": "3ef0a493-15f2-4667-8ade-9be107424b77"
      },
      "execution_count": 10,
      "outputs": [
        {
          "output_type": "stream",
          "name": "stdout",
          "text": [
            "La mejor solución encontrada es [0, 38, 22, 6, 5, 26, 18, 12, 11, 25, 10, 8, 27, 2, 28, 30, 34, 31, 17, 37, 15, 7, 20, 33, 35, 36, 32, 1, 13, 19, 16, 14, 29, 39, 24, 40, 21, 9, 23, 41, 4, 3]\n",
            "con una distancia total de 2028\n"
          ]
        }
      ]
    },
    {
      "cell_type": "markdown",
      "source": [
        "# Escapar de max/min locales"
      ],
      "metadata": {
        "id": "2UmDqxM3d5zw"
      }
    },
    {
      "cell_type": "code",
      "source": [
        "#Busqueda Local:\n",
        "#  - Sobre el operador de vecindad 2-opt(funcion genera_vecina)\n",
        "#  - Sin criterio de parada, se para cuando no es posible mejorar.\n",
        "def busqueda_local(problem):\n",
        "  mejor_solucion = []\n",
        "  for i in range(10):\n",
        "    #Generar una solucion inicial de referencia(aleatoria)\n",
        "    solucion_referencia = crear_solucion(Nodos)\n",
        "    mejor_distancia = distancia_total(solucion_referencia, problem)\n",
        "    print(mejor_distancia)\n",
        "\n",
        "    iteracion=0             #Un contador para saber las iteraciones que hacemos\n",
        "    while(1):\n",
        "      iteracion +=1         #Incrementamos el contador\n",
        "      #print('#',iteracion)\n",
        "\n",
        "      #Obtenemos la mejor vecina ...\n",
        "      vecina = genera_vecina(solucion_referencia)\n",
        "\n",
        "      #... y la evaluamos para ver si mejoramos respecto a lo encontrado hasta el momento\n",
        "      distancia_vecina = distancia_total(vecina, problem)\n",
        " \n",
        "      #Si no mejoramos hay que terminar. Hemos llegado a un minimo local(según nuestro operador de vencindad 2-opt)\n",
        "      if distancia_vecina < mejor_distancia:\n",
        "        #mejor_solucion = copy.deepcopy(vecina)   #Con copia profunda. Las copias en python son por referencia \n",
        "        mejor_solucion = vecina                   #Guarda la mejor solución encontrada\n",
        "        mejor_distancia = distancia_vecina\n",
        "\n",
        "      else:\n",
        "        print(\"En la iteracion \", iteracion, \", la mejor solución encontrada es:\" , mejor_solucion) \n",
        "        print(\"Distancia     :\" , mejor_distancia) \n",
        "        break\n",
        "  return mejor_solucion\n",
        "      \n",
        "  solucion_referencia = vecina\n",
        " \n",
        " \n",
        "sol = busqueda_local(problem )"
      ],
      "metadata": {
        "colab": {
          "base_uri": "https://localhost:8080/"
        },
        "id": "aNV219Rtd4ci",
        "outputId": "0f1f8e4a-1c58-46ba-9834-45cbd9f1c80e"
      },
      "execution_count": 11,
      "outputs": [
        {
          "output_type": "stream",
          "name": "stdout",
          "text": [
            "5339\n",
            "En la iteracion  2 , la mejor solución encontrada es: [0, 8, 35, 32, 34, 37, 12, 16, 22, 25, 31, 9, 33, 4, 1, 17, 13, 30, 10, 28, 19, 29, 26, 5, 14, 3, 41, 15, 36, 6, 23, 18, 40, 24, 21, 38, 11, 20, 7, 2, 39, 27]\n",
            "Distancia     : 4699\n",
            "5048\n",
            "En la iteracion  2 , la mejor solución encontrada es: [0, 4, 11, 38, 40, 7, 19, 20, 28, 27, 25, 31, 14, 37, 36, 17, 39, 9, 22, 15, 29, 21, 6, 12, 33, 32, 8, 5, 35, 18, 10, 41, 3, 13, 16, 26, 1, 23, 30, 24, 2, 34]\n",
            "Distancia     : 4449\n",
            "4971\n",
            "En la iteracion  2 , la mejor solución encontrada es: [0, 3, 5, 27, 7, 14, 4, 40, 11, 39, 8, 12, 6, 31, 16, 28, 20, 41, 22, 34, 18, 33, 15, 25, 13, 37, 9, 30, 38, 24, 29, 17, 2, 19, 35, 36, 26, 23, 1, 32, 21, 10]\n",
            "Distancia     : 4479\n",
            "4745\n",
            "En la iteracion  2 , la mejor solución encontrada es: [0, 3, 20, 31, 7, 32, 4, 18, 13, 5, 37, 38, 22, 28, 6, 14, 25, 34, 2, 39, 9, 15, 36, 24, 41, 1, 11, 29, 26, 10, 12, 35, 33, 40, 21, 27, 19, 8, 17, 30, 23, 16]\n",
            "Distancia     : 4367\n",
            "4692\n",
            "En la iteracion  2 , la mejor solución encontrada es: [0, 10, 4, 2, 11, 26, 36, 35, 20, 12, 29, 3, 39, 41, 8, 16, 1, 30, 14, 7, 31, 27, 21, 37, 32, 25, 23, 9, 15, 13, 17, 18, 28, 33, 19, 40, 24, 5, 6, 38, 22, 34]\n",
            "Distancia     : 4205\n",
            "4982\n",
            "En la iteracion  2 , la mejor solución encontrada es: [0, 14, 18, 15, 8, 21, 33, 4, 9, 3, 29, 2, 32, 20, 37, 11, 5, 17, 12, 1, 31, 16, 34, 7, 25, 27, 13, 19, 41, 30, 24, 39, 38, 26, 35, 10, 28, 22, 23, 40, 6, 36]\n",
            "Distancia     : 4471\n",
            "5299\n",
            "En la iteracion  2 , la mejor solución encontrada es: [0, 16, 31, 17, 26, 15, 33, 24, 5, 20, 32, 12, 41, 34, 3, 39, 28, 10, 6, 13, 23, 21, 25, 30, 14, 2, 27, 38, 19, 18, 37, 4, 35, 11, 7, 40, 9, 29, 36, 22, 8, 1]\n",
            "Distancia     : 4741\n",
            "4520\n",
            "En la iteracion  2 , la mejor solución encontrada es: [0, 23, 9, 8, 32, 17, 31, 6, 19, 4, 26, 40, 12, 25, 10, 22, 7, 14, 41, 5, 28, 3, 2, 36, 33, 34, 18, 39, 11, 38, 24, 21, 29, 15, 27, 37, 16, 20, 13, 1, 35, 30]\n",
            "Distancia     : 4007\n",
            "4823\n",
            "En la iteracion  2 , la mejor solución encontrada es: [0, 23, 15, 35, 6, 18, 36, 5, 9, 20, 7, 4, 31, 27, 16, 13, 8, 10, 38, 32, 29, 12, 19, 17, 11, 24, 25, 2, 26, 22, 30, 33, 34, 1, 3, 39, 14, 37, 41, 40, 21, 28]\n",
            "Distancia     : 4406\n",
            "4633\n",
            "En la iteracion  2 , la mejor solución encontrada es: [0, 5, 37, 8, 29, 22, 9, 38, 33, 36, 31, 17, 1, 15, 27, 4, 32, 40, 10, 13, 6, 2, 35, 3, 39, 28, 41, 24, 14, 18, 16, 34, 21, 23, 7, 11, 12, 20, 19, 26, 30, 25]\n",
            "Distancia     : 4233\n"
          ]
        }
      ]
    },
    {
      "cell_type": "markdown",
      "source": [
        "Al crear varias soluciones iniciales, ponemos las nuevas soluciones en otro sitio del mapa del soluciones, por lo que encontramos diferentes soluciones como minimos. De esta manera es más fácil encontrar la solución óptima"
      ],
      "metadata": {
        "id": "sCG6IhCmeDMh"
      }
    }
  ]
}