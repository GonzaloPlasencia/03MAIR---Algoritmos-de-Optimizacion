{
  "nbformat": 4,
  "nbformat_minor": 0,
  "metadata": {
    "colab": {
      "provenance": [],
      "toc_visible": true
    },
    "kernelspec": {
      "name": "python3",
      "display_name": "Python 3"
    },
    "language_info": {
      "name": "python"
    }
  },
  "cells": [
    {
      "cell_type": "markdown",
      "source": [
        "# Algoritmos de optimización - Seminario<br>\n",
        "Nombre y Apellidos: Gonzalo Plasencia Boticario  <br>\n",
        "Link: https://colab.research.google.com/drive/1l8gpDHZXZaOgL7j1iFtWvPoJKrUHqD7O?usp=sharing<br>\n",
        "Url: https://github.com/GonzaloPlasencia/03MAIR---Algoritmos-de-Optimizacion.git<br>\n",
        "Problema:\n",
        ">2. Organizar los horarios de partidos de La Liga<br>\n",
        "\n",
        "Descripción del problema:(copiar enunciado)\n",
        "\n",
        "Desde la La Liga de fútbol profesional se pretende organizar los horarios de los partidos de\n",
        "liga de cada jornada. Se conocen algunos datos que nos deben llevar a diseñar un\n",
        "algoritmo que realice la asignación de los partidos a los horarios de forma que maximice la\n",
        "audiencia. \n",
        "\n",
        "(*) La respuesta es obligatoria "
      ],
      "metadata": {
        "id": "I1W_nnNupuXX"
      }
    },
    {
      "cell_type": "markdown",
      "source": [
        "## Datos de entrada"
      ],
      "metadata": {
        "id": "tVNEiol7py8k"
      }
    },
    {
      "cell_type": "markdown",
      "source": [
        "Introducimos los datos de entrada dados en el enunciado del problema y adaptándolos a la estructura de datos que se va a emplear. Dicha estructura se explica posteriormente en su correspondiente pregunta."
      ],
      "metadata": {
        "id": "01WgW4M0p0Cj"
      }
    },
    {
      "cell_type": "code",
      "execution_count": 51,
      "metadata": {
        "id": "eOFsShPYpkZU"
      },
      "outputs": [],
      "source": [
        "# MATRIZ DE CATEGORIAS\n",
        "\n",
        "# Solo nos importa la matriz triangular superior, \n",
        "# por lo tanto rellenamos los datos con cero\n",
        "categorias=[[2,1.3,1],[0,0.9,0.75],[0,0,0.47]]"
      ]
    },
    {
      "cell_type": "code",
      "source": [
        "# MATRIZ COEFICIENTES\n",
        "\n",
        "# Solo nos importa la matriz de datos dados, \n",
        "# por lo tanto rellenamos los datos restantes con cero\n",
        "coeficientes=[[0,0.55,0.45,0],[0,0.7,0.75,0],[0,0.8,0.85,0],[0.4,1,1,0.4]]\n",
        "coeficientes_lista=[0.4,0.55,0.7,0.8,1,0.45,0.75,0.85,1,0.4]"
      ],
      "metadata": {
        "id": "awrBSvfCp4Fv"
      },
      "execution_count": 52,
      "outputs": []
    },
    {
      "cell_type": "code",
      "source": [
        "# MATRIZ COINCIDENTES\n",
        "# Añadimos un elemento mas en coincidentes, \n",
        "#con el objetivo de no tener todos coincidiento\n",
        "coincidentes=[0,0.25,0.45,0.6,0.70,0.75,0.78,0.8,0.8,1]"
      ],
      "metadata": {
        "id": "c1NkoPZCp8EQ"
      },
      "execution_count": 53,
      "outputs": []
    },
    {
      "cell_type": "code",
      "source": [
        "# JORNADA A ESTUDIAR\n",
        "partidos=['Celta - Real Madrid','Valencia - Real Sociedad','Mallorca - Eibar',\\\n",
        "          'Athletic - Barcelona','Leganés - Osasuna','Villarreal - Granada',\\\n",
        "          'Alavés - Levante','Espanyol - Sevilla','Betis - Valladolid',\n",
        "          'Atlético - Getafe']\n",
        "\n",
        "partidos_cat=['B-A','B-A','C-C','B-A','C-C','B-C','B-B','B-B','B-C','B-B']\n",
        "\n",
        "# Pasamos las categorías a números para mayor facilidad\n",
        "num_partidos_cat=[[2,1],[2,1],[3,3],[2,1],[3,3],[2,3],[2,2],[2,2],[2,3],[2,2]]"
      ],
      "metadata": {
        "id": "I-Bb0WpPp-R1"
      },
      "execution_count": 54,
      "outputs": []
    },
    {
      "cell_type": "markdown",
      "source": [
        "## Funciones auxiliares"
      ],
      "metadata": {
        "id": "bgzgoMHAqYST"
      }
    },
    {
      "cell_type": "code",
      "source": [
        "# ESPECTADORES POR PARTIDO\n",
        "\n",
        "# Se realizan los primeros cálculos para un manejo posterior más fácil\n",
        "# se le asigna a cada partido la base de los espectadores\n",
        "def jornada_espectadores(num_partidos_cat):\n",
        "  partidos_espectadores=[]\n",
        "\n",
        "  for i in range(10):        #10 partidos\n",
        "    if sum(num_partidos_cat[i])==2:\n",
        "      partidos_espectadores+=[categorias[0][0]]\n",
        "    elif sum(num_partidos_cat[i])==3:\n",
        "      partidos_espectadores+=[categorias[0][1]]\n",
        "    elif sum(num_partidos_cat[i])==5:\n",
        "      partidos_espectadores+=[categorias[1][2]]\n",
        "    elif sum(num_partidos_cat[i])==6:\n",
        "      partidos_espectadores+=[categorias[2][2]]\n",
        "    elif num_partidos_cat[i][0]==2 and num_partidos_cat[i][1]==2:  #suma=4\n",
        "      partidos_espectadores+=[categorias[1][1]]\n",
        "    else:\n",
        "      partidos_espectadores+=[categorias[0][2]]                    #suma=4\n",
        "  \n",
        "  return partidos_espectadores\n",
        "\n",
        "partidos_espectadores=jornada_espectadores(num_partidos_cat)\n",
        "print(partidos_espectadores)"
      ],
      "metadata": {
        "colab": {
          "base_uri": "https://localhost:8080/",
          "height": 0
        },
        "id": "wUihevECqAvQ",
        "outputId": "4cbaa57b-193f-44a3-c03c-090539c87cad"
      },
      "execution_count": 55,
      "outputs": [
        {
          "output_type": "stream",
          "name": "stdout",
          "text": [
            "[1.3, 1.3, 0.47, 1.3, 0.47, 0.75, 0.9, 0.9, 0.75, 0.9]\n"
          ]
        }
      ]
    },
    {
      "cell_type": "code",
      "source": [
        "# FUNCION PARA CALCULAR LOS COINCIDENTES EN UNA DETERMINADA DISTRIBUCION\n",
        "def cal_coincidentes(resultado_jor):\n",
        "  jor_coincidentes=[]\n",
        "  n_partidos=len(resultado_jor)\n",
        "\n",
        "  for i in range(n_partidos):\n",
        "    #nos dice si hay q sumar uno al indice para que no haya solapamiento\n",
        "    mas_uno=False       \n",
        "    \n",
        "    coin_i=0\n",
        "    for j in range(9):\n",
        "      if i==j:\n",
        "        mas_uno=True\n",
        "      if mas_uno:\n",
        "        k=j+1\n",
        "      else:\n",
        "        k=j\n",
        "      if resultado_jor[i]==resultado_jor[k]:\n",
        "        coin_i+=1\n",
        "    jor_coincidentes+=[coin_i]\n",
        "\n",
        "  return jor_coincidentes"
      ],
      "metadata": {
        "id": "7BXeftqGqTiH"
      },
      "execution_count": 56,
      "outputs": []
    },
    {
      "cell_type": "code",
      "source": [
        "# FUNCION CALCULAR LA PONDERACION EN UNA DETERMINADA DISTRIBUCION\n",
        "def cal_ponderacion(resultado_jor):\n",
        "  jor_ponderacion=[]\n",
        "  n_partidos=len(resultado_jor)\n",
        "\n",
        "  for i in range(n_partidos):\n",
        "    jor_ponderacion+=[coeficientes_lista[resultado_jor[i]-1]]\n",
        "  \n",
        "  return jor_ponderacion"
      ],
      "metadata": {
        "id": "wySZ5expquDV"
      },
      "execution_count": 57,
      "outputs": []
    },
    {
      "cell_type": "code",
      "source": [
        "# FUNCION CALCULO RESULTADO\n",
        "# La siguiente función nos hallará el numero de espectadores para un resultado\n",
        "# a traves de la funcion dada\n",
        "def espectadores_jornada(partidos_espectadores,ponderacion,jor_coincidentes,coincidentes):\n",
        "  n_partidos=len(partidos_espectadores)  \n",
        "  base_pond=[]\n",
        "\n",
        "  for i in range(n_partidos):\n",
        "    base_pond+=[partidos_espectadores[i]*ponderacion[i]]\n",
        "    base_pond[i]*=(1-coincidentes[jor_coincidentes[i]])\n",
        "\n",
        "  esp=sum(base_pond)\n",
        "  return esp"
      ],
      "metadata": {
        "id": "JuyqaPSmqzwn"
      },
      "execution_count": 58,
      "outputs": []
    },
    {
      "cell_type": "code",
      "source": [
        "# PARTIDOS IMPORTANTES\n",
        "\n",
        "# Nos calcula aquellos partidos con mayor número de espectadores base\n",
        "def partidos_importantes(num_partidos_cat):\n",
        "  n_partidos=len(num_partidos_cat)\n",
        "  part_imp=[]      #para aquellos que sumen tres\n",
        "  part_imp2=[]     #para aquellos que sumen cuatro\n",
        "  for i in range(n_partidos):\n",
        "    if sum(num_partidos_cat[i])==2:     #solo puede haber uno\n",
        "      return [i]\n",
        "    elif sum(num_partidos_cat[i])==3:\n",
        "      part_imp+=[i]\n",
        "    elif sum(num_partidos_cat[i])==4:\n",
        "      part_imp2+=[i]\n",
        "\n",
        "  if len(part_imp)==0:\n",
        "    return part_imp2\n",
        "  else:   \n",
        "    return part_imp"
      ],
      "metadata": {
        "id": "iDcQQIVdug5H"
      },
      "execution_count": 59,
      "outputs": []
    },
    {
      "cell_type": "code",
      "source": [
        "# FUNCION QUE NOS DICE EL PRIMER INDICE LIBRE\n",
        "\n",
        "# Nos calcula el primer índice libre de un resultado\n",
        "def primer_indice(resultado):\n",
        "  indice=0\n",
        "  i=0\n",
        "  while i<10:\n",
        "    if resultado[i]!=0:\n",
        "      i+=1\n",
        "    else:\n",
        "      indice=i\n",
        "      return indice \n",
        "  return 9"
      ],
      "metadata": {
        "id": "w2dQYrkNush8"
      },
      "execution_count": 60,
      "outputs": []
    },
    {
      "cell_type": "code",
      "source": [
        "#VISUALIZACION DE RESULTADOS\n",
        "def visualizacion_resultados(resultado):\n",
        "  for i in range(len(resultado)):\n",
        "    if resultado[i]==1:\n",
        "      print('El partido '+str(i+1)+' se juega el V20')\n",
        "    elif resultado[i]==2:\n",
        "      print('El partido '+str(i+1)+' se juega el S12')\n",
        "    elif resultado[i]==3:\n",
        "      print('El partido '+str(i+1)+' se juega el S16')\n",
        "    elif resultado[i]==4:\n",
        "      print('El partido '+str(i+1)+' se juega el S18')\n",
        "    elif resultado[i]==5:\n",
        "      print('El partido '+str(i+1)+' se juega el S20')\n",
        "    elif resultado[i]==6:\n",
        "      print('El partido '+str(i+1)+' se juega el D12')\n",
        "    elif resultado[i]==7:\n",
        "      print('El partido '+str(i+1)+' se juega el D16')\n",
        "    elif resultado[i]==8:\n",
        "      print('El partido '+str(i+1)+' se juega el D18')\n",
        "    elif resultado[i]==9:\n",
        "      print('El partido '+str(i+1)+' se juega el D20')\n",
        "    else:\n",
        "      print('El partido '+str(i+1)+' se juega el L20')"
      ],
      "metadata": {
        "id": "V0lzjigCZuC6"
      },
      "execution_count": 61,
      "outputs": []
    },
    {
      "cell_type": "markdown",
      "source": [
        "## Pregunta 1\n",
        "\n",
        "(*)¿Cuantas posibilidades hay sin tener en cuenta las restricciones?<br>\n",
        "\n",
        "¿Cuantas posibilidades hay teniendo en cuenta todas las restricciones?"
      ],
      "metadata": {
        "id": "nx0a_lKkrH_J"
      }
    },
    {
      "cell_type": "markdown",
      "source": [
        "Respuesta:\n",
        "\n",
        "-Teniendo en cuenta los datos de entrada del problema, con la posibilidad de la coincidencia de los 10 partidos en el mismo horario, las posibilidades son de 10^10.\n",
        "\n",
        "-Si empezamos a añadir restricciones como que el número de coincidencia en un mismo horario sea menor, las posibilidades se reducen considerablemente. Por ejemplo, si no se aceptan coincidencias de horario, hay 10! de posibilidades, muy menor a las posibilidades iniciales. Posteriormente se observará que los resultados con esta restricción no son tan malos."
      ],
      "metadata": {
        "id": "2upAvnkWrJYn"
      }
    },
    {
      "cell_type": "markdown",
      "source": [
        "## Pregunta 2\n",
        "\n",
        "Modelo para el espacio de soluciones<br>\n",
        "(*) ¿Cual es la estructura de datos que mejor se adapta al problema? Argumentalo.(Es posible que hayas elegido una al principio y veas la necesidad de cambiar, arguentalo)"
      ],
      "metadata": {
        "id": "35xgDYUkrMqs"
      }
    },
    {
      "cell_type": "markdown",
      "source": [
        "Respuesta\n",
        "\n",
        "La estructura elegida para el problema es a base de listas. Todos los datos de entrada se meterán como listas o matrices con el fin de tener el resultado una lista, asociando a cada posición el horario correspondiente, siendo el 1 el V20, el 5 el S20 y el 10 el L20, entre otros. Como los partidos se introducen por un orden, el orden indicará la posición de dicho partido. La ventaja de trabajar durante todo el problema con listas del mismo tamaño es la adaptación de esas listas a las funciones posteriores, el tamaño estándar es 10 ya que es el número de partidos por jornada. Además, si se desean visualizar los datos al finalizar el problema, se pueden crear diccionarios y otras estructuras más complejas que acepten listas.\n",
        "\n",
        "los algoritmos nos darán una posible solución, pero se pueden cambiar de horarios de aquellos partidos con el mismo número de espectadores base, los algoritmos solo calcularán un posible resultado asociado a una cantidad de espectadores."
      ],
      "metadata": {
        "id": "BMXL4PKxrPy5"
      }
    },
    {
      "cell_type": "markdown",
      "source": [
        "## Pregunta 3\n",
        "\n",
        "Según el modelo para el espacio de soluciones<br>\n",
        "(*)¿Cual es la función objetivo?\n",
        "\n",
        "(*)¿Es un problema de maximización o minimización?"
      ],
      "metadata": {
        "id": "-LMuA-vNrS1Y"
      }
    },
    {
      "cell_type": "markdown",
      "source": [
        "Respuesta\n",
        "\n",
        "-Función objetivo: sumatorio(i=1,10)(base(i)*pond_h(i)*(1-coin(i)))\n",
        "\n",
        "base(i) el número base de espectadores de cada partido.<br> \n",
        "pond_h(i) la ponderación por horario de cada partido.<br>\n",
        "coin(i) el coeficiente asociado a los coincidentes por el mismo horario.<br>\n",
        "\n",
        "-Es un problema de maximización, queremos los máximos espectadores."
      ],
      "metadata": {
        "id": "H70GntmRrV3R"
      }
    },
    {
      "cell_type": "markdown",
      "source": [
        "## Pregunta 4\n",
        "\n",
        "Diseña un algoritmo para resolver el problema por fuerza bruta"
      ],
      "metadata": {
        "id": "IThY7xVhrc-Q"
      }
    },
    {
      "cell_type": "code",
      "source": [
        "#RESPUESTA POR FUERZA BRUTA\n",
        "#Se compararn todas las posibilidades\n",
        "def fuerza_bruta(partidos_espectadores,coincidentes):\n",
        "  max_espectadores=0\n",
        "  mejor_distribucion=[]\n",
        "  n_partidos=len(partidos_espectadores)     #n_partidos=10\n",
        "  opciones=10                               #num opciones de horario\n",
        "\n",
        "  for a in range(1,opciones+1):\n",
        "    for b in range(1,opciones+1):\n",
        "      for c in range(1,opciones+1):\n",
        "        for d in range(1,opciones+1):\n",
        "          for e in range(1,opciones+1):\n",
        "            for f in range(1,opciones+1):\n",
        "              for g in range(1,opciones+1):\n",
        "                for h in range(1,opciones+1):\n",
        "                  for i in range(1,opciones+1):\n",
        "                    for j in range(1,opciones+1):\n",
        "                      resultado_jornada=[a,b,c,d,e,f,j,h,i,j]\n",
        "                      ponderacion_jornada=cal_ponderacion(resultado_jornada)\n",
        "                      coincidentes_jornada=cal_coincidentes(resultado_jornada)\n",
        "                      esp_jornada=espectadores_jornada(partidos_espectadores,\\\n",
        "                                                       ponderacion_jornada,\\\n",
        "                                                       coincidentes_jornada,\\\n",
        "                                                       coincidentes)\n",
        "                      if max_espectadores<esp_jornada:\n",
        "                        max_espectadores=esp_jornada\n",
        "                        mejor_distribucion=resultado_jornada\n",
        "  return mejor_distribucion,max_espectadores"
      ],
      "metadata": {
        "id": "WBKExwYnq948"
      },
      "execution_count": 62,
      "outputs": []
    },
    {
      "cell_type": "markdown",
      "source": [
        "## Pregunta 5\n",
        "\n",
        "Calcula la complejidad del algoritmo por fuerza bruta"
      ],
      "metadata": {
        "id": "Trm2YVebsMe-"
      }
    },
    {
      "cell_type": "markdown",
      "source": [
        "Respuesta\n",
        "\n",
        "Como hay que ver todas las posibilidades, realizamos n=10 bucles, dentro del último bucle realizamos varias funciones con coste n^2, ya que predomina la función cal_coincidentes con dicho coste. Por tanto, el coste del algoritmo es O(n^(n+2)), un coste demasiado elevado. Por tanto, hay que buscar otras alternativas, ya que hay soluciones que no tienen mucho sentido y aún asi, se calculan."
      ],
      "metadata": {
        "id": "a0ZdvCqNsSwX"
      }
    },
    {
      "cell_type": "markdown",
      "source": [
        "## Pregunta 6\n",
        "\n",
        "(*)Diseña un algoritmo que mejore la complejidad del algortimo por fuerza bruta. Argumenta porque crees que mejora el algoritmo por fuerza bruta"
      ],
      "metadata": {
        "id": "C17D7jg-tLNP"
      }
    },
    {
      "cell_type": "markdown",
      "source": [
        "Respuesta\n",
        "\n",
        "A la hora de ejecutar el problema por fuerza bruta, está claro que muchas opciones hay que eliminarlas ya que estudiarlas es absurdo, por ejemplo la de todos los equipos a la misma hora.\n",
        "\n",
        "Otra opción inteligente de estudiarlo es poniendo los partidos con más espectadores en los mejores horarios, así eliminamos otras muchas opciones.\n",
        "\n",
        "Vamos a poner una restricción, no es posible que coincidan más de dos partidos en el mismo horario, ya que si no, los espectadores bajan drásticamente.\n",
        "\n",
        "Vamos a realizar tres algoritmos para hallar una posible solución. El primero aceptando una sola repetición en el horario por cada partido, lo que nos reduce considerablemente el tiempo de ejecución. En el segundo no se aceptará ninguna repetición. El tercero con búsqueda aleatoria y realizando cambios en dicho resultado."
      ],
      "metadata": {
        "id": "0XpNlDIrtQlU"
      }
    },
    {
      "cell_type": "markdown",
      "source": [
        "### Algoritmo con repetición"
      ],
      "metadata": {
        "id": "QqDo9svOcdU7"
      }
    },
    {
      "cell_type": "markdown",
      "source": [
        "Explicación del algortimo: en el siguiente algoritmo se va a aceptar solo una repetición, si se quisieran más solo habría que cambiar el número de repeticiones en el último bucle. Por otro lado, el código del algoritmo es muy extenso debido a que se hace una diferencia entre si los partidos importantes son uno o más de uno. El partido importante de una jornada es el cual que enfrenta a los equipos de mayor categoría, se puede dar el caso de que haya uno o más, por eso esa diferenciación en el algoritmo.\n",
        "\n",
        "La idea del algoritmo es sencilla, vamos a realizar bucles, como en el algoritmo de fuerza bruta, pero solo realizamos cálculos en aquellos que emplean un mismo horario un máximo de dos partidos. Este algoritmo se puede mejorar sabiendo en un determinado bucle cuantas coincidencias llevamos, así no realizamos más bucles en algunos casos que sabemos de antemano que son incorrectos. No obstante, el resultado sería idéntico.\n",
        "\n",
        "Para finalizar, se reajustan los indices del resultado a cero para que este vuelva a su estado original y no exista sobreposiciones entre los resultados."
      ],
      "metadata": {
        "id": "upoRvK1OemAK"
      }
    },
    {
      "cell_type": "code",
      "source": [
        "# RESOLUCION DEL PROBLEMA 1 REPETICION\n",
        "def distribucion_jornada_1(num_partidos_cat,partidos_espectadores,coincidentes):\n",
        "  resultado=[0]*10\n",
        "  part_imp=partidos_importantes(num_partidos_cat)\n",
        "  max_espectadores=0\n",
        "  max_resultado=[]\n",
        "\n",
        "  if len(part_imp)==1:\n",
        "    resultado[part_imp[0]]=5    #S20\n",
        "\n",
        "    indice=primer_indice(resultado)\n",
        "    for a in range(1,11):                                \n",
        "      resultado[indice]=a\n",
        "      for b in range(1,11):\n",
        "        indice2=primer_indice(resultado)\n",
        "        resultado[indice2]=b\n",
        "        for c in range(1,11):\n",
        "          indice3=primer_indice(resultado)\n",
        "          resultado[indice3]=c\n",
        "          for d in range(1,11):\n",
        "            indice4=primer_indice(resultado)\n",
        "            resultado[indice4]=d\n",
        "            for e in range(1,11):\n",
        "              indice5=primer_indice(resultado)\n",
        "              resultado[indice5]=e\n",
        "              for f in range(1,11):\n",
        "                indice6=primer_indice(resultado)\n",
        "                resultado[indice6]=f \n",
        "                for g in range(1,11):\n",
        "                  indice7=primer_indice(resultado)\n",
        "                  resultado[indice7]=g\n",
        "                  for h in range(1,11):\n",
        "                    indice8=primer_indice(resultado)\n",
        "                    resultado[indice8]=h\n",
        "                    for r in range(1,11):\n",
        "                      indice9=primer_indice(resultado)\n",
        "                      resultado[indice9]=r  \n",
        "                      jor_coincidentes=cal_coincidentes(resultado)\n",
        "                      coincidencia_1=True\n",
        "                      for i in range(10):\n",
        "                        if jor_coincidentes[i]>1:\n",
        "                          coincidencia_1=False\n",
        "                      if coincidencia_1:\n",
        "                        ponderacion=cal_ponderacion(resultado) \n",
        "                        jorn_espectadores=espectadores_jornada(partidos_espectadores,ponderacion,jor_coincidentes,coincidentes)  \n",
        "                        res=resultado.copy()  \n",
        "                        if max_espectadores<jorn_espectadores:\n",
        "                          max_espectadores=jorn_espectadores\n",
        "                          max_resultado=res\n",
        "                      resultado[indice9]=0\n",
        "                    resultado[indice8]=0\n",
        "                  resultado[indice7]=0\n",
        "                resultado[indice6]=0\n",
        "              resultado[indice5]=0\n",
        "            resultado[indice4]=0\n",
        "          resultado[indice3]=0\n",
        "        resultado[indice2]=0\n",
        "\n",
        "  else:\n",
        "    primer_part=part_imp[0]\n",
        "    segundo_part=part_imp[1]\n",
        "    resultado[primer_part]=5    #S20\n",
        "    resultado[segundo_part]=9    #D20\n",
        "\n",
        "    partido_indice=1\n",
        "    indice=primer_indice(resultado)\n",
        "\n",
        "    for a in range(1,11):                                \n",
        "      resultado[indice]=a\n",
        "      for b in range(1,11):\n",
        "        indice2=primer_indice(resultado)\n",
        "        resultado[indice2]=b\n",
        "        for c in range(1,11):\n",
        "          indice3=primer_indice(resultado)\n",
        "          resultado[indice3]=c\n",
        "          for d in range(1,11):\n",
        "            indice4=primer_indice(resultado)\n",
        "            resultado[indice4]=d\n",
        "            for e in range(1,11):\n",
        "              indice5=primer_indice(resultado)\n",
        "              resultado[indice5]=e\n",
        "              for f in range(1,11):\n",
        "                indice6=primer_indice(resultado)\n",
        "                resultado[indice6]=f \n",
        "                for g in range(1,11):\n",
        "                  indice7=primer_indice(resultado)\n",
        "                  resultado[indice7]=g\n",
        "                  for h in range(1,11):\n",
        "                    indice8=primer_indice(resultado)\n",
        "                    resultado[indice8]=h  \n",
        "                    jor_coincidentes=cal_coincidentes(resultado)\n",
        "                    coincidencia_1=True\n",
        "                    for i in range(10):\n",
        "                      if jor_coincidentes[i]>1:\n",
        "                        coincidencia_1=False\n",
        "                    if coincidencia_1:\n",
        "                      ponderacion=cal_ponderacion(resultado) \n",
        "                      jorn_espectadores=espectadores_jornada(partidos_espectadores,ponderacion,jor_coincidentes,coincidentes)  \n",
        "                      res=resultado.copy()  \n",
        "                      if max_espectadores<jorn_espectadores:\n",
        "                        max_espectadores=jorn_espectadores\n",
        "                        max_resultado=res\n",
        "                    resultado[indice8]=0\n",
        "                  resultado[indice7]=0\n",
        "                resultado[indice6]=0\n",
        "              resultado[indice5]=0\n",
        "            resultado[indice4]=0\n",
        "          resultado[indice3]=0\n",
        "        resultado[indice2]=0\n",
        "\n",
        "  return max_resultado,max_espectadores\n",
        "\n",
        "#max_resultado,max_espectadores=distribucion_jornada_1(num_partidos_cat,partidos_espectadores,coincidentes)\n",
        "#print(max_resultado,max_espectadores)\n",
        "\n",
        "# Resultados\n",
        "#max_resultado,max_espectadores=[5, 9, 1, 8, 10, 2, 3, 4, 6, 7], 6.856\n",
        "#44min 18s"
      ],
      "metadata": {
        "id": "g97ISy6rsGvE"
      },
      "execution_count": 63,
      "outputs": []
    },
    {
      "cell_type": "markdown",
      "source": [
        "### Algortimo sin repetición"
      ],
      "metadata": {
        "id": "adBd2HMCef_y"
      }
    },
    {
      "cell_type": "markdown",
      "source": [
        "Explicación del algoritmo: este algoritmo es muy parecido al anterior, se tiene tanto la idea de los bucles como la de reajustar los índices cuando se acaba con un proceso, la diferencia es que solo admite una coincidencia, para eso, en vez de emplear una función que calcule cuántas coincidencias de orden polinomial, lo realizamos mediante estructuras de if, lo cual es más eficiente."
      ],
      "metadata": {
        "id": "ff2FG5sAeuxR"
      }
    },
    {
      "cell_type": "code",
      "source": [
        "# RESOLUCION DEL PROBLEMA SIN REPETICION\n",
        "def distribucion_jornada(num_partidos_cat,partidos_espectadores,coincidentes):\n",
        "  resultado=[0]*10\n",
        "  part_imp=partidos_importantes(num_partidos_cat)\n",
        "  max_espectadores=0\n",
        "  max_resultado=[]\n",
        "\n",
        "  if len(part_imp)==1:\n",
        "    resultado[part_imp[0]]=5    #S20\n",
        "\n",
        "    partido_indice=1\n",
        "    indice=primer_indice(resultado)\n",
        "\n",
        "    for a in range(1,11):\n",
        "      if a!=5:                                   #no coincidentes\n",
        "        resultado[indice]=a\n",
        "        for b in range(1,11):\n",
        "          if b!=a and b!=5:                      #no coincidentes\n",
        "            indice2=primer_indice(resultado)\n",
        "            resultado[indice2]=b\n",
        "            for c in range(1,11):\n",
        "              if c!=b and c!=a and c!=5:         #no coincidentes\n",
        "                indice3=primer_indice(resultado)\n",
        "                resultado[indice3]=c\n",
        "                for d in range(1,11):\n",
        "                  if d!=c and d!=b and d!=a and d!=5:  #no coincidentes\n",
        "                    indice4=primer_indice(resultado)\n",
        "                    resultado[indice4]=d\n",
        "                    for e in range(1,11):\n",
        "                      if e!=d and e!=c and e!=b and e!=a and e!=5:\n",
        "                        indice5=primer_indice(resultado)\n",
        "                        resultado[indice5]=e\n",
        "                        for f in range(1,11):\n",
        "                          if f!=e and f!=d and f!=c and f!=b and f!=a and f!=5:\n",
        "                            indice6=primer_indice(resultado)\n",
        "                            resultado[indice6]=f \n",
        "                            for g in range(1,11):\n",
        "                              if g!=f and g!=e and g!=d and g!=c and g!=b and g!=a and g!=5:\n",
        "                                indice7=primer_indice(resultado)\n",
        "                                resultado[indice7]=g\n",
        "                                for h in range(1,11):\n",
        "                                  if h!=g and h!=f and h!=e and h!=d and h!=c and h!=b and h!=a and h!=5:\n",
        "                                    indice8=primer_indice(resultado)\n",
        "                                    resultado[indice8]=h    \n",
        "                                    for i in range(1,11):\n",
        "                                      if i!=h and h!=g and h!=f and h!=e and h!=d and h!=c and h!=b and h!=a and h!=5:                            \n",
        "                                        indice9=primer_indice(resultado)\n",
        "                                        resultado[indice9]=i  \n",
        "                                        jor_coincidentes=cal_coincidentes(resultado)\n",
        "                                        ponderacion=cal_ponderacion(resultado) \n",
        "                                        jorn_espectadores=espectadores_jornada(partidos_espectadores,ponderacion,jor_coincidentes,coincidentes)  \n",
        "                                        res=resultado.copy()  \n",
        "                                        if max_espectadores<jorn_espectadores:\n",
        "                                          max_espectadores=jorn_espectadores\n",
        "                                          max_resultado=res\n",
        "                                        resultado[indice9]=0\n",
        "                                    resultado[indice8]=0\n",
        "                                resultado[indice7]=0\n",
        "                            resultado[indice6]=0\n",
        "                        resultado[indice5]=0\n",
        "                    resultado[indice4]=0\n",
        "                resultado[indice3]=0\n",
        "            resultado[indice2]=0\n",
        "\n",
        "  else:\n",
        "    primer_part=part_imp[0]\n",
        "    segundo_part=part_imp[1]\n",
        "    resultado[primer_part]=5    #S20\n",
        "    resultado[segundo_part]=9    #D20\n",
        "\n",
        "    partido_indice=1\n",
        "    indice=primer_indice(resultado)\n",
        "\n",
        "    for a in range(1,11):\n",
        "      if a!=5 and a!=9:                                   #no coincidentes\n",
        "        resultado[indice]=a\n",
        "        for b in range(1,11):\n",
        "          if b!=a and b!=5 and b!=9:                      #no coincidentes\n",
        "            indice2=primer_indice(resultado)\n",
        "            resultado[indice2]=b\n",
        "            for c in range(1,11):\n",
        "              if c!=b and c!=a and c!=5 and c!=9:         #no coincidentes\n",
        "                indice3=primer_indice(resultado)\n",
        "                resultado[indice3]=c\n",
        "                for d in range(1,11):\n",
        "                  if d!=c and d!=b and d!=a and d!=5 and d!=9:  #no coincidentes\n",
        "                    indice4=primer_indice(resultado)\n",
        "                    resultado[indice4]=d\n",
        "                    for e in range(1,11):\n",
        "                      if e!=d and e!=c and e!=b and e!=a and e!=5 and e!=9:\n",
        "                        indice5=primer_indice(resultado)\n",
        "                        resultado[indice5]=e\n",
        "                        for f in range(1,11):\n",
        "                          if f!=e and f!=d and f!=c and f!=b and f!=a and f!=5 and f!=9:\n",
        "                            indice6=primer_indice(resultado)\n",
        "                            resultado[indice6]=f \n",
        "                            for g in range(1,11):\n",
        "                              if g!=f and g!=e and g!=d and g!=c and g!=b and g!=a and g!=5 and g!=9:\n",
        "                                indice7=primer_indice(resultado)\n",
        "                                resultado[indice7]=g\n",
        "                                for h in range(1,11):\n",
        "                                  if h!=g and h!=f and h!=e and h!=d and h!=c and h!=b and h!=a and h!=5 and h!=9:\n",
        "                                    indice8=primer_indice(resultado)\n",
        "                                    resultado[indice8]=h  \n",
        "                                    jor_coincidentes=cal_coincidentes(resultado)\n",
        "                                    ponderacion=cal_ponderacion(resultado) \n",
        "                                    jorn_espectadores=espectadores_jornada(partidos_espectadores,ponderacion,jor_coincidentes,coincidentes)  \n",
        "                                    res=resultado.copy()  \n",
        "                                    if max_espectadores<jorn_espectadores:\n",
        "                                      max_espectadores=jorn_espectadores\n",
        "                                      max_resultado=res\n",
        "                                    resultado[indice8]=0\n",
        "                                resultado[indice7]=0\n",
        "                            resultado[indice6]=0\n",
        "                        resultado[indice5]=0\n",
        "                    resultado[indice4]=0\n",
        "                resultado[indice3]=0\n",
        "            resultado[indice2]=0\n",
        "\n",
        "  return max_resultado,max_espectadores\n",
        "\n",
        "\n",
        "max_resultado,max_espectadores=distribucion_jornada(num_partidos_cat,partidos_espectadores,coincidentes)\n",
        "print(max_resultado,max_espectadores)\n",
        "visualizacion_resultados(max_resultado)"
      ],
      "metadata": {
        "colab": {
          "base_uri": "https://localhost:8080/",
          "height": 0
        },
        "id": "W5ohZtLhu-vW",
        "outputId": "ff63efb7-2d83-4858-e8b6-ded79904d8af"
      },
      "execution_count": 64,
      "outputs": [
        {
          "output_type": "stream",
          "name": "stdout",
          "text": [
            "[5, 9, 1, 8, 10, 2, 3, 4, 6, 7] 6.856\n",
            "El partido 1 se juega el S20\n",
            "El partido 2 se juega el D20\n",
            "El partido 3 se juega el V20\n",
            "El partido 4 se juega el D18\n",
            "El partido 5 se juega el L20\n",
            "El partido 6 se juega el S12\n",
            "El partido 7 se juega el S16\n",
            "El partido 8 se juega el S18\n",
            "El partido 9 se juega el D12\n",
            "El partido 10 se juega el D16\n"
          ]
        }
      ]
    },
    {
      "cell_type": "markdown",
      "source": [
        "### Algoritmo aleatorio"
      ],
      "metadata": {
        "id": "Lrwa1Y0JfWIJ"
      }
    },
    {
      "cell_type": "markdown",
      "source": [
        "Explicación del algoritmo: para este algoritmo, creamos un resultado aleatorio, se ve su número de espectadores, y se van realizando cálculos que modifique en pequeña medida ese resultado. Este procedimiento se repite tantas veces como se quiera mediante un bucle."
      ],
      "metadata": {
        "id": "3LcQzeglfZVP"
      }
    },
    {
      "cell_type": "code",
      "source": [
        "# CREACION ALEATORIA\n",
        "import random\n",
        "\n",
        "def distribucion_aleatoria(n=10):     #n len de la lista\n",
        "  resultado=[0]*n\n",
        "  for i in range(n):\n",
        "    resultado[i]=random.randint(1,10)\n",
        "  return resultado\n",
        "\n",
        "# DISTRUBUCION DE LA JORNADA DE MODO ALEATORIO\n",
        "# SUMAMOS Y RESTAMOS UNO A CADA NÚMERO\n",
        "def distribucion_jornada_aleatoria(num_partidos_cat,partidos_espectadores,coincidentes):\n",
        "  max_espectadores=0\n",
        "  max_resultado=[]\n",
        "\n",
        "  for i in range(10000):\n",
        "    resultado=distribucion_aleatoria(10)\n",
        "\n",
        "    for i in range(len(partidos_espectadores)):\n",
        "      res1=resultado.copy()      \n",
        "      ponderacion=cal_ponderacion(res1) \n",
        "      jor_coincidentes=cal_coincidentes(res1)\n",
        "      jorn_espectadores=espectadores_jornada(partidos_espectadores,ponderacion,jor_coincidentes,coincidentes)   \n",
        "      if max_espectadores<jorn_espectadores:\n",
        "        max_espectadores=jorn_espectadores\n",
        "        max_resultado=res1\n",
        "\n",
        "      res1=resultado.copy()\n",
        "      if resultado[i]!=10:\n",
        "        res1[i]=resultado[i]+1\n",
        "        ponderacion=cal_ponderacion(res1) \n",
        "        jor_coincidentes=cal_coincidentes(res1)\n",
        "        jorn_espectadores=espectadores_jornada(partidos_espectadores,ponderacion,jor_coincidentes,coincidentes)   \n",
        "        if max_espectadores<jorn_espectadores:\n",
        "          max_espectadores=jorn_espectadores\n",
        "          max_resultado=res1\n",
        "\n",
        "      res1=resultado.copy()\n",
        "      if resultado[i]!=1:\n",
        "        res1[i]=resultado[i]-1\n",
        "        ponderacion=cal_ponderacion(res1) \n",
        "        jor_coincidentes=cal_coincidentes(res1)\n",
        "        jorn_espectadores=espectadores_jornada(partidos_espectadores,ponderacion,jor_coincidentes,coincidentes)   \n",
        "        if max_espectadores<jorn_espectadores:\n",
        "          max_espectadores=jorn_espectadores\n",
        "          max_resultado=res1\n",
        "    \n",
        "  return max_resultado, max_espectadores\n",
        "\n",
        "\n",
        "distribucion_jornada_aleatoria(num_partidos_cat,partidos_espectadores,coincidentes)"
      ],
      "metadata": {
        "colab": {
          "base_uri": "https://localhost:8080/",
          "height": 0
        },
        "id": "hTg5OSlkzFSe",
        "outputId": "6f1bc3dd-dd26-4fc4-be55-e60c60bdde11"
      },
      "execution_count": 65,
      "outputs": [
        {
          "output_type": "execute_result",
          "data": {
            "text/plain": [
              "([8, 5, 1, 9, 6, 3, 4, 2, 3, 7], 6.782)"
            ]
          },
          "metadata": {},
          "execution_count": 65
        }
      ]
    },
    {
      "cell_type": "markdown",
      "source": [
        "## Pregunta 7\n",
        "\n",
        "(*)Calcula la complejidad del algoritmo"
      ],
      "metadata": {
        "id": "CnCSoY25wo_V"
      }
    },
    {
      "cell_type": "markdown",
      "source": [
        "Respuesta\n",
        "\n",
        "En el primer algoritmo, solo una repetición, tiene complejidad O(n^(n+1)). Solo centrándonos en esta medida parece un algoritmo igual que al de fuerza bruta, pero nos ahorramos muchísimos cálculos hasta tal punto que el algoritmo acaba, en menos de 42 min, obteniendo unos resultados muy buenos.\n",
        "\n",
        "El segundo algoritmo, sin repetición, tiene complejidad factorial. Además, a través del sistema de if, podemos ver que nos ahorramos muchas llamadas a funciones auxiliares. Se puede observar que el algoritmo acaba en menos de 2 segundo, con los resultados iguales al primer algoritmo, lo que nos hace indicar que la repetición es muy mala para los resultados, se pierden muchos espectadores.\n",
        "\n",
        "En el tercer algoritmo, de búsqueda aleatoria, tiene complejidad O(n^3), por lo tanto, con un n pequeño, se puede ejecutar muchas veces y encontrar una solución buena. Si lo repetimos muchas veces, para que el algoritmo tarde aproximadamente una hora, los resultados se parecen a los de los algoritmos anteriores, pero son casi siempre peores. \n",
        "\n",
        "Por estos motivos, recomiendo emplear el segundo, ya que da los mejores resultados en menor tiempo."
      ],
      "metadata": {
        "id": "rtTHLJnSwzON"
      }
    },
    {
      "cell_type": "markdown",
      "source": [
        "## Pregunta 8\n",
        "\n",
        "Según el problema (y tenga sentido), diseña un juego de datos de entrada aleatorios."
      ],
      "metadata": {
        "id": "RvaY8pWtyuFJ"
      }
    },
    {
      "cell_type": "code",
      "source": [
        "#3-A, 11-B, 6-C\n",
        "#20 posiciones para cada uno de los equipos\n",
        "import numpy as np\n",
        "\n",
        "jornada=[0]*20\n",
        "jornada_aleatoria=[[0,0]]*10\n",
        "posibilidades=[i for i in range(1,21)]\n",
        "\n",
        "# Se elige de manera aleatoria la jornada \n",
        "for i in range(3):\n",
        "  j=random.choice(posibilidades)\n",
        "  jornada[j-1]=1\n",
        "  posibilidades.remove(j)\n",
        "\n",
        "for i in range(11):\n",
        "  j=random.choice(posibilidades)\n",
        "  jornada[j-1]=2\n",
        "  posibilidades.remove(j)\n",
        "\n",
        "for i in range(6):\n",
        "  j=random.choice(posibilidades)\n",
        "  jornada[j-1]=3\n",
        "  posibilidades.remove(j)\n",
        "\n",
        "jornada=np.array(jornada)\n",
        "jornada_aleatoria=jornada.reshape((10,2))\n",
        "print(jornada_aleatoria)\n",
        "\n",
        "jornada_aleatoria=list(jornada_aleatoria)\n",
        "jornada_aleatoria_espectadores=jornada_espectadores(jornada_aleatoria)\n",
        "jornada_aleatoria_espectadores=list(jornada_aleatoria_espectadores)\n",
        "print(jornada_aleatoria_espectadores)"
      ],
      "metadata": {
        "colab": {
          "base_uri": "https://localhost:8080/",
          "height": 0
        },
        "id": "dCcHXy15vESW",
        "outputId": "15d91cb4-63f6-4a59-aa7c-58dddd919ce1"
      },
      "execution_count": 68,
      "outputs": [
        {
          "output_type": "stream",
          "name": "stdout",
          "text": [
            "[[2 1]\n",
            " [2 2]\n",
            " [2 2]\n",
            " [2 2]\n",
            " [3 1]\n",
            " [3 1]\n",
            " [2 2]\n",
            " [3 2]\n",
            " [3 3]\n",
            " [2 3]]\n",
            "[1.3, 0.9, 0.9, 0.9, 1, 1, 0.9, 0.75, 0.47, 0.75]\n"
          ]
        }
      ]
    },
    {
      "cell_type": "markdown",
      "source": [
        "## Pregunta 9\n",
        "\n",
        "Aplica el algoritmo al juego de datos generado"
      ],
      "metadata": {
        "id": "IitD-S0bVlxj"
      }
    },
    {
      "cell_type": "code",
      "source": [
        "resultado_jor_aleat,esp_jor_aleat=distribucion_jornada_aleatoria(jornada_aleatoria,jornada_aleatoria_espectadores,coincidentes)\n",
        "print(resultado_jor_aleat,esp_jor_aleat)\n",
        "\n",
        "visualizacion_resultados(resultado_jor_aleat)"
      ],
      "metadata": {
        "colab": {
          "base_uri": "https://localhost:8080/",
          "height": 0
        },
        "id": "kUcKVyx24W-O",
        "outputId": "a519f78b-f5c8-4d3a-f7ef-9da8c1e22f97"
      },
      "execution_count": 69,
      "outputs": [
        {
          "output_type": "stream",
          "name": "stdout",
          "text": [
            "[5, 3, 7, 9, 4, 9, 8, 2, 6, 10] 6.518999999999999\n",
            "El partido 1 se juega el S20\n",
            "El partido 2 se juega el S16\n",
            "El partido 3 se juega el D16\n",
            "El partido 4 se juega el D20\n",
            "El partido 5 se juega el S18\n",
            "El partido 6 se juega el D20\n",
            "El partido 7 se juega el D18\n",
            "El partido 8 se juega el S12\n",
            "El partido 9 se juega el D12\n",
            "El partido 10 se juega el L20\n"
          ]
        }
      ]
    },
    {
      "cell_type": "markdown",
      "source": [
        "## Pregunta 10\n",
        "\n",
        "Enumera las referencias que has utilizado(si ha sido necesario) para llevar a cabo el trabajo"
      ],
      "metadata": {
        "id": "bY_oVb8qWi8b"
      }
    },
    {
      "cell_type": "markdown",
      "source": [
        "Respuesta\n",
        "\n",
        "En este trabajo no he empleado ninguna referencia externa."
      ],
      "metadata": {
        "id": "VEXlCfU9WpcC"
      }
    },
    {
      "cell_type": "markdown",
      "source": [
        "## Pregunta 11\n",
        "\n",
        "Describe brevemente las lineas de como crees que es posible avanzar en el estudio del problema. Ten en cuenta incluso posibles variaciones del problema y/o variaciones al alza del tamaño"
      ],
      "metadata": {
        "id": "n6CDtvS-WvsA"
      }
    },
    {
      "cell_type": "markdown",
      "source": [
        "Respuesta\n",
        "\n",
        "Para empezar, creo que todas las posibles soluciones óptimas son variaciones en cuanto a horarios de la distribución hallada por el algoritmo sin repetición, por este motivo, LaLiga tiene casi todos sus partidos en diferente horario. Otro posible algoritmo sería uno genético, para llegar a una buena solución, pero no se sabría si es la óptima o no, por eso creo que quedarnos con la solución hallada por el algoritmo sin repetición es una muy buena opción, incluso puede ser la óptima. \n",
        "\n",
        "Una de las cosas buenas de este problema es el tamaño de datos de entrada (n=10). Si n se hace cada vez más grande, por ejemplo, queremos una distribución para todos los partidos de la Champions en una jornada de fase de grupos, los algoritmos de repeticón y búsqueda aleatoria tardarían mucho tiempo, y sin embargo, el de sin repetición no los podemos usar porque no hay tantos horarios. En este caso, realizaríamos el algoritmo aleatorio, sabiendo que lo más probable es que nos de una buena solución pero no la óptima, ya que tardaría menos que el algoritmo con repetición, depende de la cantidad de soluciones que quieras comparar.\n",
        "\n",
        "Está claro que al ver todo el mapa de posibilidades, llegaremos a una solución óptima, pero eso es imposible ejecutarlo por la cantidad de ellas. Por eso, si n aumenta, tenemos que centrarnos en otro tipo de algoritmos, con n muy grande, el algoritmo sin repetición es el más rápido y además encuentra una solución bastante buena, por no decir la óptima, pero existen casos donde no se puede emplear por falta de recursos, por eso el algoritmo aleatorio es muy buena opción con tamaños de datos grandes. \n",
        "\n",
        "Otro problema parecido sería el de distribuir todas las jornadas de la liga en el año poniendo como restricción que todos los equipos tienen que jugar al menos una vez en todos los horarios."
      ],
      "metadata": {
        "id": "hyvWNZMoW6DZ"
      }
    }
  ]
}