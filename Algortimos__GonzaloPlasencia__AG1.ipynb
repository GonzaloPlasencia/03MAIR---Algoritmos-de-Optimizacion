{
  "nbformat": 4,
  "nbformat_minor": 0,
  "metadata": {
    "colab": {
      "provenance": []
    },
    "kernelspec": {
      "name": "python3",
      "display_name": "Python 3"
    },
    "language_info": {
      "name": "python"
    }
  },
  "cells": [
    {
      "cell_type": "markdown",
      "source": [
        "Actividad Guiada 1 de Algoritmos de Optimización\n",
        "\n",
        "Nombre : Gonzalo Plasencia Boticario\n",
        "\n",
        "Link : https://colab.research.google.com/drive/1IsyOB2YdxyQDdIfT3vBLtMxeISbfJLhi?usp=sharing\n",
        "\n",
        "Github : https://github.com/GonzaloPlasencia/03MAIR---Algoritmos-de-Optimizacion.git"
      ],
      "metadata": {
        "id": "wFSSp6Y5qclm"
      }
    },
    {
      "cell_type": "code",
      "source": [
        "#Torres de Hanoi - Divide y venceras\n",
        "\n",
        "def Torres_Hanoi(N, desde, hasta):\n",
        "  #N - Nº de fichas\n",
        "  #desde - nº poste inicial\n",
        "  #hasta - nº poste final\n",
        "  if N==1 :\n",
        "    print(\"Lleva la ficha desde \" + str(desde) + \" hasta \" + str(hasta))\n",
        "    #print(\"Lleva la ficha \" + str(N) + \" desde \" + str(desde) + \" hasta \" + str(hasta))\n",
        "  else:\n",
        "    Torres_Hanoi(N-1, desde, 6-desde-hasta)\n",
        "    print(\"Lleva la ficha desde \" + str(desde) + \" hasta \" + str(hasta))\n",
        "    #print(\"Lleva la ficha \" + str(N) + \" desde \" + str(desde) + \" hasta \" + str(hasta))\n",
        "    Torres_Hanoi(N-1, 6-desde-hasta,  hasta)\n",
        "\n",
        "Torres_Hanoi(3, 1, 3)"
      ],
      "metadata": {
        "colab": {
          "base_uri": "https://localhost:8080/"
        },
        "id": "8dVb9vxrrR4c",
        "outputId": "d9124c74-0619-48a4-acf8-8df622a92583"
      },
      "execution_count": 1,
      "outputs": [
        {
          "output_type": "stream",
          "name": "stdout",
          "text": [
            "Lleva la ficha desde 1 hasta 3\n",
            "Lleva la ficha desde 1 hasta 2\n",
            "Lleva la ficha desde 3 hasta 2\n",
            "Lleva la ficha desde 1 hasta 3\n",
            "Lleva la ficha desde 2 hasta 1\n",
            "Lleva la ficha desde 2 hasta 3\n",
            "Lleva la ficha desde 1 hasta 3\n"
          ]
        }
      ]
    },
    {
      "cell_type": "code",
      "source": [
        "#Cambio de monedas - Técnica voraz\n",
        "SISTEMA = [12,5,2,1]\n",
        "\n",
        "def cambio_monedas(cantidad, sistema):\n",
        "  # cantidad a cambiar\n",
        "  # sistema: valor de las monedas diferente, ordenado de mayor valor a menor\n",
        "  solucion = {}\n",
        "  for v in sistema:\n",
        "    monedas = cantidad // v\n",
        "    solucion[v] = monedas\n",
        "    cantidad -= monedas * v\n",
        "    if cantidad == 0:\n",
        "      return solucion\n",
        "  print(\"No es posible encontrar solucion\") \n",
        "\n",
        "cambio_monedas(15,SISTEMA)"
      ],
      "metadata": {
        "colab": {
          "base_uri": "https://localhost:8080/"
        },
        "id": "QKsMyL1GxLEk",
        "outputId": "26f60267-ca29-429f-9ece-e6c710577770"
      },
      "execution_count": 2,
      "outputs": [
        {
          "output_type": "execute_result",
          "data": {
            "text/plain": [
              "{12: 1, 5: 0, 2: 1, 1: 1}"
            ]
          },
          "metadata": {},
          "execution_count": 2
        }
      ]
    },
    {
      "cell_type": "code",
      "source": [
        "#N Reinas - Vuelta Atrás()\n",
        "#Verifica que en la solución parcial no hay amenzas entre reinas\n",
        "\n",
        "def es_prometedora(SOLUCION,etapa):\n",
        "  #print(SOLUCION)\n",
        "  #Si la solución tiene dos valores iguales no es valida => Dos reinas en la misma fila\n",
        "  for i in range(etapa+1):\n",
        "    #print(\"El valor \" + str(SOLUCION[i]) + \" está \" +  str(SOLUCION.count(SOLUCION[i])) + \" veces\")\n",
        "    if SOLUCION.count(SOLUCION[i]) > 1:       \n",
        "      return False\n",
        "    #Verifica las diagonales\n",
        "    for j in range(i+1, etapa +1 ):\n",
        "      #print(\"Comprobando diagonal de \" + str(i) + \" y \" + str(j))\n",
        "      if abs(i-j) == abs(SOLUCION[i]-SOLUCION[j]) : return False\n",
        "  return True\n",
        "\n",
        "#Traduce la solución al tablero\n",
        "def escribe_solucion(S):\n",
        "  n = len(S)\n",
        "  for x in range(n):\n",
        "    print(\"\")\n",
        "    for i in range(n):\n",
        "      if S[i] == x+1:\n",
        "        print(\" X \" , end=\"\")\n",
        "      else:\n",
        "        print(\" - \", end=\"\")\n",
        "\n",
        "\n",
        "\n",
        "#Proceso principal de N-Reinas\n",
        "def reinas(N, solucion=[],etapa=0): \n",
        "  if len(solucion) == 0:         # [0,0,0...]\n",
        "    solucion = [0 for i in range(N) ] \n",
        "  for i in range(1, N+1):\n",
        "    solucion[etapa] = i\n",
        "    if es_prometedora(solucion, etapa):\n",
        "      if etapa == N-1:\n",
        "        print(solucion)\n",
        "      else:  \n",
        "        reinas(N, solucion, etapa+1)\n",
        "    else:\n",
        "      None \n",
        "  solucion[etapa] = 0\n",
        "\n",
        "reinas(4,solucion=[],etapa=0)"
      ],
      "metadata": {
        "colab": {
          "base_uri": "https://localhost:8080/"
        },
        "id": "ZKykzK3B9FiN",
        "outputId": "fc07c42c-887e-416b-da71-a4b916459fbd"
      },
      "execution_count": 3,
      "outputs": [
        {
          "output_type": "stream",
          "name": "stdout",
          "text": [
            "[2, 4, 1, 3]\n",
            "[3, 1, 4, 2]\n"
          ]
        }
      ]
    },
    {
      "cell_type": "code",
      "source": [
        "import random\n",
        "import numpy as np\n",
        "\n",
        "lista=[random.randint(1,1000) for i in range(21)]\n",
        "print(lista)"
      ],
      "metadata": {
        "colab": {
          "base_uri": "https://localhost:8080/"
        },
        "id": "7qzzR9HQElxy",
        "outputId": "e9974377-fe78-44a6-c957-d7912f0b4a74"
      },
      "execution_count": 4,
      "outputs": [
        {
          "output_type": "stream",
          "name": "stdout",
          "text": [
            "[498, 699, 279, 44, 81, 887, 399, 135, 844, 941, 191, 382, 467, 588, 835, 468, 817, 979, 778, 43, 548]\n"
          ]
        }
      ]
    },
    {
      "cell_type": "code",
      "source": [
        "#Punto más cercano\n",
        "\n",
        "def puntos_cercanos(lista):\n",
        "  minimo=abs(lista[0]-lista[1])\n",
        "  p1=0\n",
        "  p2=1\n",
        "  n=len(lista)\n",
        "  for i in range(n):\n",
        "    for j in range(i+1,n):\n",
        "      distancia=abs(lista[i]-lista[j])\n",
        "      if distancia<minimo:\n",
        "        minimo=distancia\n",
        "        p1=i\n",
        "        p2=j\n",
        "  print('La distancia mínima entre dos puntos es: '+str(minimo)+\n",
        "        ', entre los puntos '+str(p1)+' y '+str(p2))   #empieza en 0\n",
        "  return minimo,p1,p2\n",
        "\n",
        "puntos_cercanos(lista)"
      ],
      "metadata": {
        "colab": {
          "base_uri": "https://localhost:8080/"
        },
        "id": "1kcVgByhFR04",
        "outputId": "d45a3785-6e40-41ee-d5ad-11e24e516c1a"
      },
      "execution_count": 5,
      "outputs": [
        {
          "output_type": "stream",
          "name": "stdout",
          "text": [
            "La distancia mínima entre dos puntos es: 1, entre los puntos 3 y 19\n"
          ]
        },
        {
          "output_type": "execute_result",
          "data": {
            "text/plain": [
              "(1, 3, 19)"
            ]
          },
          "metadata": {},
          "execution_count": 5
        }
      ]
    },
    {
      "cell_type": "markdown",
      "source": [
        "**COMPLEJIDAD**\n",
        "\n",
        "EL anterior algoritmo calcula todas las distancias posibles entre los puntos, como tenemos dos bucles anidados, la complejidad del problema es O(n^2), lo principal para la complejidad son los bucles, en este caso. Veamos si se puede reducir la complejidad. Con la técnica divide y vencerás, se consigue la cuasilinealidad"
      ],
      "metadata": {
        "id": "GFmDi-iHHpaH"
      }
    },
    {
      "cell_type": "code",
      "source": [
        "#Divide y vencerás, distancia entre puntos\n",
        "\n",
        "def puntos_cercanos(lista):\n",
        "  lista=np.array(lista) \n",
        "  n=len(lista)\n",
        "  \n",
        "  if n==0:\n",
        "    print(0)\n",
        "  elif n==1:\n",
        "    return 100000\n",
        "  elif n==2:\n",
        "    minimo=abs(lista[0]-lista[1])\n",
        "    return minimo\n",
        "  elif n==3:\n",
        "    minimo=min(abs(lista[0]-lista[1]),abs(lista[1]-lista[2]))\n",
        "  else:\n",
        "    #ordenamos la lista\n",
        "    lista=np.sort(lista)    #quicksort por defecto\n",
        "\n",
        "    minimo1=puntos_cercanos(lista[:n//2])\n",
        "    minimo2=puntos_cercanos(lista[n//2:])\n",
        "    minimo3=abs(lista[n//2-1]-lista[n//2])\n",
        "    minimo=min(minimo1,minimo2,minimo3)\n",
        "\n",
        "  return minimo\n",
        "\n",
        "print(lista)\n",
        "print(puntos_cercanos(lista))"
      ],
      "metadata": {
        "colab": {
          "base_uri": "https://localhost:8080/"
        },
        "id": "0c38m0eDG_Er",
        "outputId": "6f9ca3e5-bd90-4a98-9a64-bd9104025fac"
      },
      "execution_count": 8,
      "outputs": [
        {
          "output_type": "stream",
          "name": "stdout",
          "text": [
            "[498, 699, 279, 44, 81, 887, 399, 135, 844, 941, 191, 382, 467, 588, 835, 468, 817, 979, 778, 43, 548]\n",
            "1\n"
          ]
        }
      ]
    }
  ]
}